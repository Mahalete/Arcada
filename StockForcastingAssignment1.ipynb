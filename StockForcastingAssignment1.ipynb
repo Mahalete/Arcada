{
 "cells": [
  {
   "cell_type": "code",
   "execution_count": 1,
   "metadata": {
    "collapsed": true
   },
   "outputs": [],
   "source": [
    "import numpy as np"
   ]
  },
  {
   "cell_type": "code",
   "execution_count": 2,
   "metadata": {
    "collapsed": true
   },
   "outputs": [],
   "source": [
    "import pandas as pd"
   ]
  },
  {
   "cell_type": "code",
   "execution_count": 3,
   "metadata": {
    "collapsed": true
   },
   "outputs": [],
   "source": [
    "import datetime\n",
    "from pandas_datareader import data, wb"
   ]
  },
  {
   "cell_type": "code",
   "execution_count": 4,
   "metadata": {
    "collapsed": true
   },
   "outputs": [],
   "source": [
    "start = datetime.date(2012, 3, 25)\n",
    "end = datetime.date.today()"
   ]
  },
  {
   "cell_type": "code",
   "execution_count": 5,
   "metadata": {
    "collapsed": true
   },
   "outputs": [],
   "source": [
    "df = data.DataReader('AAPL', 'yahoo', start, end)"
   ]
  },
  {
   "cell_type": "code",
   "execution_count": 6,
   "metadata": {
    "collapsed": true
   },
   "outputs": [],
   "source": [
    "from sklearn.model_selection import train_test_split\n",
    "\n",
    "train, test = train_test_split(df, test_size = 0.2)#segment 80% training and 20% testing"
   ]
  },
  {
   "cell_type": "code",
   "execution_count": 7,
   "metadata": {
    "collapsed": false
   },
   "outputs": [
    {
     "data": {
      "text/html": [
       "<div>\n",
       "<table border=\"1\" class=\"dataframe\">\n",
       "  <thead>\n",
       "    <tr style=\"text-align: right;\">\n",
       "      <th></th>\n",
       "      <th>Open</th>\n",
       "      <th>High</th>\n",
       "      <th>Low</th>\n",
       "      <th>Close</th>\n",
       "      <th>Volume</th>\n",
       "      <th>Adj Close</th>\n",
       "    </tr>\n",
       "    <tr>\n",
       "      <th>Date</th>\n",
       "      <th></th>\n",
       "      <th></th>\n",
       "      <th></th>\n",
       "      <th></th>\n",
       "      <th></th>\n",
       "      <th></th>\n",
       "    </tr>\n",
       "  </thead>\n",
       "  <tbody>\n",
       "    <tr>\n",
       "      <th>2012-03-26</th>\n",
       "      <td>599.790016</td>\n",
       "      <td>607.150024</td>\n",
       "      <td>595.259979</td>\n",
       "      <td>606.979980</td>\n",
       "      <td>148935500</td>\n",
       "      <td>78.640054</td>\n",
       "    </tr>\n",
       "    <tr>\n",
       "      <th>2012-03-27</th>\n",
       "      <td>606.180016</td>\n",
       "      <td>616.280006</td>\n",
       "      <td>606.060013</td>\n",
       "      <td>614.480019</td>\n",
       "      <td>151782400</td>\n",
       "      <td>79.611755</td>\n",
       "    </tr>\n",
       "    <tr>\n",
       "      <th>2012-03-28</th>\n",
       "      <td>618.379974</td>\n",
       "      <td>621.450005</td>\n",
       "      <td>610.309990</td>\n",
       "      <td>617.620010</td>\n",
       "      <td>163865100</td>\n",
       "      <td>80.018571</td>\n",
       "    </tr>\n",
       "    <tr>\n",
       "      <th>2012-03-29</th>\n",
       "      <td>612.780006</td>\n",
       "      <td>616.560013</td>\n",
       "      <td>607.230026</td>\n",
       "      <td>609.859993</td>\n",
       "      <td>152059600</td>\n",
       "      <td>79.013187</td>\n",
       "    </tr>\n",
       "    <tr>\n",
       "      <th>2012-03-30</th>\n",
       "      <td>608.769981</td>\n",
       "      <td>610.559982</td>\n",
       "      <td>597.939987</td>\n",
       "      <td>599.550011</td>\n",
       "      <td>182759500</td>\n",
       "      <td>77.677430</td>\n",
       "    </tr>\n",
       "  </tbody>\n",
       "</table>\n",
       "</div>"
      ],
      "text/plain": [
       "                  Open        High         Low       Close     Volume  \\\n",
       "Date                                                                    \n",
       "2012-03-26  599.790016  607.150024  595.259979  606.979980  148935500   \n",
       "2012-03-27  606.180016  616.280006  606.060013  614.480019  151782400   \n",
       "2012-03-28  618.379974  621.450005  610.309990  617.620010  163865100   \n",
       "2012-03-29  612.780006  616.560013  607.230026  609.859993  152059600   \n",
       "2012-03-30  608.769981  610.559982  597.939987  599.550011  182759500   \n",
       "\n",
       "            Adj Close  \n",
       "Date                   \n",
       "2012-03-26  78.640054  \n",
       "2012-03-27  79.611755  \n",
       "2012-03-28  80.018571  \n",
       "2012-03-29  79.013187  \n",
       "2012-03-30  77.677430  "
      ]
     },
     "execution_count": 7,
     "metadata": {},
     "output_type": "execute_result"
    }
   ],
   "source": [
    "df.head()"
   ]
  },
  {
   "cell_type": "code",
   "execution_count": 8,
   "metadata": {
    "collapsed": true
   },
   "outputs": [],
   "source": [
    "df[\"STOK\"]=(df[\"Close\"]-df[\"Low\"].min())/(df[\"High\"].max()-df[\"Low\"].min())*100#Adding feature Stochastic %K"
   ]
  },
  {
   "cell_type": "code",
   "execution_count": 9,
   "metadata": {
    "collapsed": false
   },
   "outputs": [
    {
     "data": {
      "text/html": [
       "<div>\n",
       "<table border=\"1\" class=\"dataframe\">\n",
       "  <thead>\n",
       "    <tr style=\"text-align: right;\">\n",
       "      <th></th>\n",
       "      <th>Open</th>\n",
       "      <th>High</th>\n",
       "      <th>Low</th>\n",
       "      <th>Close</th>\n",
       "      <th>Volume</th>\n",
       "      <th>Adj Close</th>\n",
       "      <th>STOK</th>\n",
       "    </tr>\n",
       "    <tr>\n",
       "      <th>Date</th>\n",
       "      <th></th>\n",
       "      <th></th>\n",
       "      <th></th>\n",
       "      <th></th>\n",
       "      <th></th>\n",
       "      <th></th>\n",
       "      <th></th>\n",
       "    </tr>\n",
       "  </thead>\n",
       "  <tbody>\n",
       "    <tr>\n",
       "      <th>2012-03-26</th>\n",
       "      <td>599.790016</td>\n",
       "      <td>607.150024</td>\n",
       "      <td>595.259979</td>\n",
       "      <td>606.979980</td>\n",
       "      <td>148935500</td>\n",
       "      <td>78.640054</td>\n",
       "      <td>84.065946</td>\n",
       "    </tr>\n",
       "    <tr>\n",
       "      <th>2012-03-27</th>\n",
       "      <td>606.180016</td>\n",
       "      <td>616.280006</td>\n",
       "      <td>606.060013</td>\n",
       "      <td>614.480019</td>\n",
       "      <td>151782400</td>\n",
       "      <td>79.611755</td>\n",
       "      <td>85.284275</td>\n",
       "    </tr>\n",
       "    <tr>\n",
       "      <th>2012-03-28</th>\n",
       "      <td>618.379974</td>\n",
       "      <td>621.450005</td>\n",
       "      <td>610.309990</td>\n",
       "      <td>617.620010</td>\n",
       "      <td>163865100</td>\n",
       "      <td>80.018571</td>\n",
       "      <td>85.794345</td>\n",
       "    </tr>\n",
       "    <tr>\n",
       "      <th>2012-03-29</th>\n",
       "      <td>612.780006</td>\n",
       "      <td>616.560013</td>\n",
       "      <td>607.230026</td>\n",
       "      <td>609.859993</td>\n",
       "      <td>152059600</td>\n",
       "      <td>79.013187</td>\n",
       "      <td>84.533784</td>\n",
       "    </tr>\n",
       "    <tr>\n",
       "      <th>2012-03-30</th>\n",
       "      <td>608.769981</td>\n",
       "      <td>610.559982</td>\n",
       "      <td>597.939987</td>\n",
       "      <td>599.550011</td>\n",
       "      <td>182759500</td>\n",
       "      <td>77.677430</td>\n",
       "      <td>82.858998</td>\n",
       "    </tr>\n",
       "  </tbody>\n",
       "</table>\n",
       "</div>"
      ],
      "text/plain": [
       "                  Open        High         Low       Close     Volume  \\\n",
       "Date                                                                    \n",
       "2012-03-26  599.790016  607.150024  595.259979  606.979980  148935500   \n",
       "2012-03-27  606.180016  616.280006  606.060013  614.480019  151782400   \n",
       "2012-03-28  618.379974  621.450005  610.309990  617.620010  163865100   \n",
       "2012-03-29  612.780006  616.560013  607.230026  609.859993  152059600   \n",
       "2012-03-30  608.769981  610.559982  597.939987  599.550011  182759500   \n",
       "\n",
       "            Adj Close       STOK  \n",
       "Date                              \n",
       "2012-03-26  78.640054  84.065946  \n",
       "2012-03-27  79.611755  85.284275  \n",
       "2012-03-28  80.018571  85.794345  \n",
       "2012-03-29  79.013187  84.533784  \n",
       "2012-03-30  77.677430  82.858998  "
      ]
     },
     "execution_count": 9,
     "metadata": {},
     "output_type": "execute_result"
    }
   ],
   "source": [
    "df.head()"
   ]
  },
  {
   "cell_type": "code",
   "execution_count": 10,
   "metadata": {
    "collapsed": true
   },
   "outputs": [],
   "source": [
    "import matplotlib\n",
    "import matplotlib.pyplot as plt"
   ]
  },
  {
   "cell_type": "code",
   "execution_count": 11,
   "metadata": {
    "collapsed": false
   },
   "outputs": [
    {
     "data": {
      "image/png": "[encoded data removed]",
      "text/plain": [
       "<matplotlib.figure.Figure at 0x191ff954550>"
      ]
     },
     "metadata": {},
     "output_type": "display_data"
    }
   ],
   "source": [
    "df[\"Adj Close\"].plot(figsize=(12,8))\n",
    "df[\"STOK\"].plot(figsize=(12,8))\n",
    "plt.show()#Visualizing feature STOK with price"
   ]
  },
  {
   "cell_type": "code",
   "execution_count": 12,
   "metadata": {
    "collapsed": true
   },
   "outputs": [],
   "source": [
    "df[\"AO Oscillator\"]=(df[\"High\"]-df[\"Close\"].shift(1))/(df[\"High\"]-df[\"Low\"])#Feature 2 from Indicator Type 1"
   ]
  },
  {
   "cell_type": "code",
   "execution_count": 13,
   "metadata": {
    "collapsed": false
   },
   "outputs": [
    {
     "data": {
      "text/html": [
       "<div>\n",
       "<table border=\"1\" class=\"dataframe\">\n",
       "  <thead>\n",
       "    <tr style=\"text-align: right;\">\n",
       "      <th></th>\n",
       "      <th>Open</th>\n",
       "      <th>High</th>\n",
       "      <th>Low</th>\n",
       "      <th>Close</th>\n",
       "      <th>Volume</th>\n",
       "      <th>Adj Close</th>\n",
       "      <th>STOK</th>\n",
       "      <th>AO Oscillator</th>\n",
       "    </tr>\n",
       "    <tr>\n",
       "      <th>Date</th>\n",
       "      <th></th>\n",
       "      <th></th>\n",
       "      <th></th>\n",
       "      <th></th>\n",
       "      <th></th>\n",
       "      <th></th>\n",
       "      <th></th>\n",
       "      <th></th>\n",
       "    </tr>\n",
       "  </thead>\n",
       "  <tbody>\n",
       "    <tr>\n",
       "      <th>2012-03-26</th>\n",
       "      <td>599.790016</td>\n",
       "      <td>607.150024</td>\n",
       "      <td>595.259979</td>\n",
       "      <td>606.979980</td>\n",
       "      <td>148935500</td>\n",
       "      <td>78.640054</td>\n",
       "      <td>84.065946</td>\n",
       "      <td>NaN</td>\n",
       "    </tr>\n",
       "    <tr>\n",
       "      <th>2012-03-27</th>\n",
       "      <td>606.180016</td>\n",
       "      <td>616.280006</td>\n",
       "      <td>606.060013</td>\n",
       "      <td>614.480019</td>\n",
       "      <td>151782400</td>\n",
       "      <td>79.611755</td>\n",
       "      <td>85.284275</td>\n",
       "      <td>0.909984</td>\n",
       "    </tr>\n",
       "    <tr>\n",
       "      <th>2012-03-28</th>\n",
       "      <td>618.379974</td>\n",
       "      <td>621.450005</td>\n",
       "      <td>610.309990</td>\n",
       "      <td>617.620010</td>\n",
       "      <td>163865100</td>\n",
       "      <td>80.018571</td>\n",
       "      <td>85.794345</td>\n",
       "      <td>0.625671</td>\n",
       "    </tr>\n",
       "    <tr>\n",
       "      <th>2012-03-29</th>\n",
       "      <td>612.780006</td>\n",
       "      <td>616.560013</td>\n",
       "      <td>607.230026</td>\n",
       "      <td>609.859993</td>\n",
       "      <td>152059600</td>\n",
       "      <td>79.013187</td>\n",
       "      <td>84.533784</td>\n",
       "      <td>-0.113612</td>\n",
       "    </tr>\n",
       "    <tr>\n",
       "      <th>2012-03-30</th>\n",
       "      <td>608.769981</td>\n",
       "      <td>610.559982</td>\n",
       "      <td>597.939987</td>\n",
       "      <td>599.550011</td>\n",
       "      <td>182759500</td>\n",
       "      <td>77.677430</td>\n",
       "      <td>82.858998</td>\n",
       "      <td>0.055467</td>\n",
       "    </tr>\n",
       "  </tbody>\n",
       "</table>\n",
       "</div>"
      ],
      "text/plain": [
       "                  Open        High         Low       Close     Volume  \\\n",
       "Date                                                                    \n",
       "2012-03-26  599.790016  607.150024  595.259979  606.979980  148935500   \n",
       "2012-03-27  606.180016  616.280006  606.060013  614.480019  151782400   \n",
       "2012-03-28  618.379974  621.450005  610.309990  617.620010  163865100   \n",
       "2012-03-29  612.780006  616.560013  607.230026  609.859993  152059600   \n",
       "2012-03-30  608.769981  610.559982  597.939987  599.550011  182759500   \n",
       "\n",
       "            Adj Close       STOK  AO Oscillator  \n",
       "Date                                             \n",
       "2012-03-26  78.640054  84.065946            NaN  \n",
       "2012-03-27  79.611755  85.284275       0.909984  \n",
       "2012-03-28  80.018571  85.794345       0.625671  \n",
       "2012-03-29  79.013187  84.533784      -0.113612  \n",
       "2012-03-30  77.677430  82.858998       0.055467  "
      ]
     },
     "execution_count": 13,
     "metadata": {},
     "output_type": "execute_result"
    }
   ],
   "source": [
    "df.head()"
   ]
  },
  {
   "cell_type": "code",
   "execution_count": 14,
   "metadata": {
    "collapsed": true
   },
   "outputs": [],
   "source": [
    "df.fillna(0, inplace=True)"
   ]
  },
  {
   "cell_type": "code",
   "execution_count": 15,
   "metadata": {
    "collapsed": false
   },
   "outputs": [
    {
     "data": {
      "text/html": [
       "<div>\n",
       "<table border=\"1\" class=\"dataframe\">\n",
       "  <thead>\n",
       "    <tr style=\"text-align: right;\">\n",
       "      <th></th>\n",
       "      <th>Open</th>\n",
       "      <th>High</th>\n",
       "      <th>Low</th>\n",
       "      <th>Close</th>\n",
       "      <th>Volume</th>\n",
       "      <th>Adj Close</th>\n",
       "      <th>STOK</th>\n",
       "      <th>AO Oscillator</th>\n",
       "    </tr>\n",
       "    <tr>\n",
       "      <th>Date</th>\n",
       "      <th></th>\n",
       "      <th></th>\n",
       "      <th></th>\n",
       "      <th></th>\n",
       "      <th></th>\n",
       "      <th></th>\n",
       "      <th></th>\n",
       "      <th></th>\n",
       "    </tr>\n",
       "  </thead>\n",
       "  <tbody>\n",
       "    <tr>\n",
       "      <th>2012-03-26</th>\n",
       "      <td>599.790016</td>\n",
       "      <td>607.150024</td>\n",
       "      <td>595.259979</td>\n",
       "      <td>606.979980</td>\n",
       "      <td>148935500</td>\n",
       "      <td>78.640054</td>\n",
       "      <td>84.065946</td>\n",
       "      <td>0.000000</td>\n",
       "    </tr>\n",
       "    <tr>\n",
       "      <th>2012-03-27</th>\n",
       "      <td>606.180016</td>\n",
       "      <td>616.280006</td>\n",
       "      <td>606.060013</td>\n",
       "      <td>614.480019</td>\n",
       "      <td>151782400</td>\n",
       "      <td>79.611755</td>\n",
       "      <td>85.284275</td>\n",
       "      <td>0.909984</td>\n",
       "    </tr>\n",
       "    <tr>\n",
       "      <th>2012-03-28</th>\n",
       "      <td>618.379974</td>\n",
       "      <td>621.450005</td>\n",
       "      <td>610.309990</td>\n",
       "      <td>617.620010</td>\n",
       "      <td>163865100</td>\n",
       "      <td>80.018571</td>\n",
       "      <td>85.794345</td>\n",
       "      <td>0.625671</td>\n",
       "    </tr>\n",
       "    <tr>\n",
       "      <th>2012-03-29</th>\n",
       "      <td>612.780006</td>\n",
       "      <td>616.560013</td>\n",
       "      <td>607.230026</td>\n",
       "      <td>609.859993</td>\n",
       "      <td>152059600</td>\n",
       "      <td>79.013187</td>\n",
       "      <td>84.533784</td>\n",
       "      <td>-0.113612</td>\n",
       "    </tr>\n",
       "    <tr>\n",
       "      <th>2012-03-30</th>\n",
       "      <td>608.769981</td>\n",
       "      <td>610.559982</td>\n",
       "      <td>597.939987</td>\n",
       "      <td>599.550011</td>\n",
       "      <td>182759500</td>\n",
       "      <td>77.677430</td>\n",
       "      <td>82.858998</td>\n",
       "      <td>0.055467</td>\n",
       "    </tr>\n",
       "  </tbody>\n",
       "</table>\n",
       "</div>"
      ],
      "text/plain": [
       "                  Open        High         Low       Close     Volume  \\\n",
       "Date                                                                    \n",
       "2012-03-26  599.790016  607.150024  595.259979  606.979980  148935500   \n",
       "2012-03-27  606.180016  616.280006  606.060013  614.480019  151782400   \n",
       "2012-03-28  618.379974  621.450005  610.309990  617.620010  163865100   \n",
       "2012-03-29  612.780006  616.560013  607.230026  609.859993  152059600   \n",
       "2012-03-30  608.769981  610.559982  597.939987  599.550011  182759500   \n",
       "\n",
       "            Adj Close       STOK  AO Oscillator  \n",
       "Date                                             \n",
       "2012-03-26  78.640054  84.065946       0.000000  \n",
       "2012-03-27  79.611755  85.284275       0.909984  \n",
       "2012-03-28  80.018571  85.794345       0.625671  \n",
       "2012-03-29  79.013187  84.533784      -0.113612  \n",
       "2012-03-30  77.677430  82.858998       0.055467  "
      ]
     },
     "execution_count": 15,
     "metadata": {},
     "output_type": "execute_result"
    }
   ],
   "source": [
    "df.head()"
   ]
  },
  {
   "cell_type": "code",
   "execution_count": 16,
   "metadata": {
    "collapsed": true
   },
   "outputs": [],
   "source": [
    "df[\"LW%R\"]=(df[\"High\"].max()-df[\"Close\"])/(df[\"High\"].max()-df[\"Low\"].min())*100# Feature 3,Larry William’s %R from Type 1"
   ]
  },
  {
   "cell_type": "code",
   "execution_count": 17,
   "metadata": {
    "collapsed": false
   },
   "outputs": [
    {
     "data": {
      "text/html": [
       "<div>\n",
       "<table border=\"1\" class=\"dataframe\">\n",
       "  <thead>\n",
       "    <tr style=\"text-align: right;\">\n",
       "      <th></th>\n",
       "      <th>Open</th>\n",
       "      <th>High</th>\n",
       "      <th>Low</th>\n",
       "      <th>Close</th>\n",
       "      <th>Volume</th>\n",
       "      <th>Adj Close</th>\n",
       "      <th>STOK</th>\n",
       "      <th>AO Oscillator</th>\n",
       "      <th>LW%R</th>\n",
       "    </tr>\n",
       "    <tr>\n",
       "      <th>Date</th>\n",
       "      <th></th>\n",
       "      <th></th>\n",
       "      <th></th>\n",
       "      <th></th>\n",
       "      <th></th>\n",
       "      <th></th>\n",
       "      <th></th>\n",
       "      <th></th>\n",
       "      <th></th>\n",
       "    </tr>\n",
       "  </thead>\n",
       "  <tbody>\n",
       "    <tr>\n",
       "      <th>2012-03-26</th>\n",
       "      <td>599.790016</td>\n",
       "      <td>607.150024</td>\n",
       "      <td>595.259979</td>\n",
       "      <td>606.979980</td>\n",
       "      <td>148935500</td>\n",
       "      <td>78.640054</td>\n",
       "      <td>84.065946</td>\n",
       "      <td>0.000000</td>\n",
       "      <td>15.934054</td>\n",
       "    </tr>\n",
       "    <tr>\n",
       "      <th>2012-03-27</th>\n",
       "      <td>606.180016</td>\n",
       "      <td>616.280006</td>\n",
       "      <td>606.060013</td>\n",
       "      <td>614.480019</td>\n",
       "      <td>151782400</td>\n",
       "      <td>79.611755</td>\n",
       "      <td>85.284275</td>\n",
       "      <td>0.909984</td>\n",
       "      <td>14.715725</td>\n",
       "    </tr>\n",
       "    <tr>\n",
       "      <th>2012-03-28</th>\n",
       "      <td>618.379974</td>\n",
       "      <td>621.450005</td>\n",
       "      <td>610.309990</td>\n",
       "      <td>617.620010</td>\n",
       "      <td>163865100</td>\n",
       "      <td>80.018571</td>\n",
       "      <td>85.794345</td>\n",
       "      <td>0.625671</td>\n",
       "      <td>14.205655</td>\n",
       "    </tr>\n",
       "    <tr>\n",
       "      <th>2012-03-29</th>\n",
       "      <td>612.780006</td>\n",
       "      <td>616.560013</td>\n",
       "      <td>607.230026</td>\n",
       "      <td>609.859993</td>\n",
       "      <td>152059600</td>\n",
       "      <td>79.013187</td>\n",
       "      <td>84.533784</td>\n",
       "      <td>-0.113612</td>\n",
       "      <td>15.466216</td>\n",
       "    </tr>\n",
       "    <tr>\n",
       "      <th>2012-03-30</th>\n",
       "      <td>608.769981</td>\n",
       "      <td>610.559982</td>\n",
       "      <td>597.939987</td>\n",
       "      <td>599.550011</td>\n",
       "      <td>182759500</td>\n",
       "      <td>77.677430</td>\n",
       "      <td>82.858998</td>\n",
       "      <td>0.055467</td>\n",
       "      <td>17.141002</td>\n",
       "    </tr>\n",
       "  </tbody>\n",
       "</table>\n",
       "</div>"
      ],
      "text/plain": [
       "                  Open        High         Low       Close     Volume  \\\n",
       "Date                                                                    \n",
       "2012-03-26  599.790016  607.150024  595.259979  606.979980  148935500   \n",
       "2012-03-27  606.180016  616.280006  606.060013  614.480019  151782400   \n",
       "2012-03-28  618.379974  621.450005  610.309990  617.620010  163865100   \n",
       "2012-03-29  612.780006  616.560013  607.230026  609.859993  152059600   \n",
       "2012-03-30  608.769981  610.559982  597.939987  599.550011  182759500   \n",
       "\n",
       "            Adj Close       STOK  AO Oscillator       LW%R  \n",
       "Date                                                        \n",
       "2012-03-26  78.640054  84.065946       0.000000  15.934054  \n",
       "2012-03-27  79.611755  85.284275       0.909984  14.715725  \n",
       "2012-03-28  80.018571  85.794345       0.625671  14.205655  \n",
       "2012-03-29  79.013187  84.533784      -0.113612  15.466216  \n",
       "2012-03-30  77.677430  82.858998       0.055467  17.141002  "
      ]
     },
     "execution_count": 17,
     "metadata": {},
     "output_type": "execute_result"
    }
   ],
   "source": [
    "df.head()"
   ]
  },
  {
   "cell_type": "code",
   "execution_count": 18,
   "metadata": {
    "collapsed": false
   },
   "outputs": [
    {
     "data": {
      "image/png": "[encoded data removed]",
      "text/plain": [
       "<matplotlib.figure.Figure at 0x191ff954518>"
      ]
     },
     "metadata": {},
     "output_type": "display_data"
    }
   ],
   "source": [
    "df[\"Adj Close\"].plot(figsize=(12,8))\n",
    "df[\"LW%R\"].plot(figsize=(12,8))\n",
    "df[\"AO Oscillator\"].plot(figsize=(12,8))\n",
    "plt.show()# Visualizing in the graph"
   ]
  },
  {
   "cell_type": "code",
   "execution_count": 19,
   "metadata": {
    "collapsed": true
   },
   "outputs": [],
   "source": [
    "df[\"ASY1\"]= ((np.log(df[\"Close\"])- np.log(df[\"Close\"].shift(1)))*100).shift(1)# Feature ASY1 from Type 2 Indicator"
   ]
  },
  {
   "cell_type": "code",
   "execution_count": 20,
   "metadata": {
    "collapsed": false
   },
   "outputs": [
    {
     "data": {
      "text/html": [
       "<div>\n",
       "<table border=\"1\" class=\"dataframe\">\n",
       "  <thead>\n",
       "    <tr style=\"text-align: right;\">\n",
       "      <th></th>\n",
       "      <th>Open</th>\n",
       "      <th>High</th>\n",
       "      <th>Low</th>\n",
       "      <th>Close</th>\n",
       "      <th>Volume</th>\n",
       "      <th>Adj Close</th>\n",
       "      <th>STOK</th>\n",
       "      <th>AO Oscillator</th>\n",
       "      <th>LW%R</th>\n",
       "      <th>ASY1</th>\n",
       "    </tr>\n",
       "    <tr>\n",
       "      <th>Date</th>\n",
       "      <th></th>\n",
       "      <th></th>\n",
       "      <th></th>\n",
       "      <th></th>\n",
       "      <th></th>\n",
       "      <th></th>\n",
       "      <th></th>\n",
       "      <th></th>\n",
       "      <th></th>\n",
       "      <th></th>\n",
       "    </tr>\n",
       "  </thead>\n",
       "  <tbody>\n",
       "    <tr>\n",
       "      <th>2012-03-26</th>\n",
       "      <td>599.790016</td>\n",
       "      <td>607.150024</td>\n",
       "      <td>595.259979</td>\n",
       "      <td>606.979980</td>\n",
       "      <td>148935500</td>\n",
       "      <td>78.640054</td>\n",
       "      <td>84.065946</td>\n",
       "      <td>0.000000</td>\n",
       "      <td>15.934054</td>\n",
       "      <td>NaN</td>\n",
       "    </tr>\n",
       "    <tr>\n",
       "      <th>2012-03-27</th>\n",
       "      <td>606.180016</td>\n",
       "      <td>616.280006</td>\n",
       "      <td>606.060013</td>\n",
       "      <td>614.480019</td>\n",
       "      <td>151782400</td>\n",
       "      <td>79.611755</td>\n",
       "      <td>85.284275</td>\n",
       "      <td>0.909984</td>\n",
       "      <td>14.715725</td>\n",
       "      <td>NaN</td>\n",
       "    </tr>\n",
       "    <tr>\n",
       "      <th>2012-03-28</th>\n",
       "      <td>618.379974</td>\n",
       "      <td>621.450005</td>\n",
       "      <td>610.309990</td>\n",
       "      <td>617.620010</td>\n",
       "      <td>163865100</td>\n",
       "      <td>80.018571</td>\n",
       "      <td>85.794345</td>\n",
       "      <td>0.625671</td>\n",
       "      <td>14.205655</td>\n",
       "      <td>1.228060</td>\n",
       "    </tr>\n",
       "    <tr>\n",
       "      <th>2012-03-29</th>\n",
       "      <td>612.780006</td>\n",
       "      <td>616.560013</td>\n",
       "      <td>607.230026</td>\n",
       "      <td>609.859993</td>\n",
       "      <td>152059600</td>\n",
       "      <td>79.013187</td>\n",
       "      <td>84.533784</td>\n",
       "      <td>-0.113612</td>\n",
       "      <td>15.466216</td>\n",
       "      <td>0.509699</td>\n",
       "    </tr>\n",
       "    <tr>\n",
       "      <th>2012-03-30</th>\n",
       "      <td>608.769981</td>\n",
       "      <td>610.559982</td>\n",
       "      <td>597.939987</td>\n",
       "      <td>599.550011</td>\n",
       "      <td>182759500</td>\n",
       "      <td>77.677430</td>\n",
       "      <td>82.858998</td>\n",
       "      <td>0.055467</td>\n",
       "      <td>17.141002</td>\n",
       "      <td>-1.264399</td>\n",
       "    </tr>\n",
       "  </tbody>\n",
       "</table>\n",
       "</div>"
      ],
      "text/plain": [
       "                  Open        High         Low       Close     Volume  \\\n",
       "Date                                                                    \n",
       "2012-03-26  599.790016  607.150024  595.259979  606.979980  148935500   \n",
       "2012-03-27  606.180016  616.280006  606.060013  614.480019  151782400   \n",
       "2012-03-28  618.379974  621.450005  610.309990  617.620010  163865100   \n",
       "2012-03-29  612.780006  616.560013  607.230026  609.859993  152059600   \n",
       "2012-03-30  608.769981  610.559982  597.939987  599.550011  182759500   \n",
       "\n",
       "            Adj Close       STOK  AO Oscillator       LW%R      ASY1  \n",
       "Date                                                                  \n",
       "2012-03-26  78.640054  84.065946       0.000000  15.934054       NaN  \n",
       "2012-03-27  79.611755  85.284275       0.909984  14.715725       NaN  \n",
       "2012-03-28  80.018571  85.794345       0.625671  14.205655  1.228060  \n",
       "2012-03-29  79.013187  84.533784      -0.113612  15.466216  0.509699  \n",
       "2012-03-30  77.677430  82.858998       0.055467  17.141002 -1.264399  "
      ]
     },
     "execution_count": 20,
     "metadata": {},
     "output_type": "execute_result"
    }
   ],
   "source": [
    "df.head()"
   ]
  },
  {
   "cell_type": "code",
   "execution_count": 21,
   "metadata": {
    "collapsed": true
   },
   "outputs": [],
   "source": [
    "# Drop the NaN values\n",
    "df = df.dropna()"
   ]
  },
  {
   "cell_type": "code",
   "execution_count": 22,
   "metadata": {
    "collapsed": true
   },
   "outputs": [],
   "source": [
    "df[\"ASY2\"]=(1/ np.log(df[\"Close\"].shift(2)) - (1/np.log(df[\"Close\"].shift(3))))*100# Feature ASY2 from Type 2 Indicator"
   ]
  },
  {
   "cell_type": "code",
   "execution_count": 23,
   "metadata": {
    "collapsed": false
   },
   "outputs": [
    {
     "data": {
      "text/html": [
       "<div>\n",
       "<table border=\"1\" class=\"dataframe\">\n",
       "  <thead>\n",
       "    <tr style=\"text-align: right;\">\n",
       "      <th></th>\n",
       "      <th>Open</th>\n",
       "      <th>High</th>\n",
       "      <th>Low</th>\n",
       "      <th>Close</th>\n",
       "      <th>Volume</th>\n",
       "      <th>Adj Close</th>\n",
       "      <th>STOK</th>\n",
       "      <th>AO Oscillator</th>\n",
       "      <th>LW%R</th>\n",
       "      <th>ASY1</th>\n",
       "      <th>ASY2</th>\n",
       "    </tr>\n",
       "    <tr>\n",
       "      <th>Date</th>\n",
       "      <th></th>\n",
       "      <th></th>\n",
       "      <th></th>\n",
       "      <th></th>\n",
       "      <th></th>\n",
       "      <th></th>\n",
       "      <th></th>\n",
       "      <th></th>\n",
       "      <th></th>\n",
       "      <th></th>\n",
       "      <th></th>\n",
       "    </tr>\n",
       "  </thead>\n",
       "  <tbody>\n",
       "    <tr>\n",
       "      <th>2012-03-28</th>\n",
       "      <td>618.379974</td>\n",
       "      <td>621.450005</td>\n",
       "      <td>610.309990</td>\n",
       "      <td>617.620010</td>\n",
       "      <td>163865100</td>\n",
       "      <td>80.018571</td>\n",
       "      <td>85.794345</td>\n",
       "      <td>0.625671</td>\n",
       "      <td>14.205655</td>\n",
       "      <td>1.228060</td>\n",
       "      <td>NaN</td>\n",
       "    </tr>\n",
       "    <tr>\n",
       "      <th>2012-03-29</th>\n",
       "      <td>612.780006</td>\n",
       "      <td>616.560013</td>\n",
       "      <td>607.230026</td>\n",
       "      <td>609.859993</td>\n",
       "      <td>152059600</td>\n",
       "      <td>79.013187</td>\n",
       "      <td>84.533784</td>\n",
       "      <td>-0.113612</td>\n",
       "      <td>15.466216</td>\n",
       "      <td>0.509699</td>\n",
       "      <td>NaN</td>\n",
       "    </tr>\n",
       "    <tr>\n",
       "      <th>2012-03-30</th>\n",
       "      <td>608.769981</td>\n",
       "      <td>610.559982</td>\n",
       "      <td>597.939987</td>\n",
       "      <td>599.550011</td>\n",
       "      <td>182759500</td>\n",
       "      <td>77.677430</td>\n",
       "      <td>82.858998</td>\n",
       "      <td>0.055467</td>\n",
       "      <td>17.141002</td>\n",
       "      <td>-1.264399</td>\n",
       "      <td>NaN</td>\n",
       "    </tr>\n",
       "    <tr>\n",
       "      <th>2012-04-02</th>\n",
       "      <td>601.830009</td>\n",
       "      <td>618.769997</td>\n",
       "      <td>600.379990</td>\n",
       "      <td>618.630020</td>\n",
       "      <td>149587900</td>\n",
       "      <td>80.149428</td>\n",
       "      <td>85.958415</td>\n",
       "      <td>1.045132</td>\n",
       "      <td>14.041585</td>\n",
       "      <td>-1.705002</td>\n",
       "      <td>0.030681</td>\n",
       "    </tr>\n",
       "    <tr>\n",
       "      <th>2012-04-03</th>\n",
       "      <td>627.300018</td>\n",
       "      <td>632.209984</td>\n",
       "      <td>622.510002</td>\n",
       "      <td>629.319984</td>\n",
       "      <td>208639900</td>\n",
       "      <td>81.534415</td>\n",
       "      <td>87.694926</td>\n",
       "      <td>1.399999</td>\n",
       "      <td>12.305074</td>\n",
       "      <td>3.132800</td>\n",
       "      <td>0.041565</td>\n",
       "    </tr>\n",
       "  </tbody>\n",
       "</table>\n",
       "</div>"
      ],
      "text/plain": [
       "                  Open        High         Low       Close     Volume  \\\n",
       "Date                                                                    \n",
       "2012-03-28  618.379974  621.450005  610.309990  617.620010  163865100   \n",
       "2012-03-29  612.780006  616.560013  607.230026  609.859993  152059600   \n",
       "2012-03-30  608.769981  610.559982  597.939987  599.550011  182759500   \n",
       "2012-04-02  601.830009  618.769997  600.379990  618.630020  149587900   \n",
       "2012-04-03  627.300018  632.209984  622.510002  629.319984  208639900   \n",
       "\n",
       "            Adj Close       STOK  AO Oscillator       LW%R      ASY1      ASY2  \n",
       "Date                                                                            \n",
       "2012-03-28  80.018571  85.794345       0.625671  14.205655  1.228060       NaN  \n",
       "2012-03-29  79.013187  84.533784      -0.113612  15.466216  0.509699       NaN  \n",
       "2012-03-30  77.677430  82.858998       0.055467  17.141002 -1.264399       NaN  \n",
       "2012-04-02  80.149428  85.958415       1.045132  14.041585 -1.705002  0.030681  \n",
       "2012-04-03  81.534415  87.694926       1.399999  12.305074  3.132800  0.041565  "
      ]
     },
     "execution_count": 23,
     "metadata": {},
     "output_type": "execute_result"
    }
   ],
   "source": [
    "df.head()"
   ]
  },
  {
   "cell_type": "code",
   "execution_count": 24,
   "metadata": {
    "collapsed": true
   },
   "outputs": [],
   "source": [
    "df.fillna(0, inplace=True)"
   ]
  },
  {
   "cell_type": "code",
   "execution_count": 25,
   "metadata": {
    "collapsed": false
   },
   "outputs": [
    {
     "data": {
      "image/png": "[encoded data removed]",
      "text/plain": [
       "<matplotlib.figure.Figure at 0x191ffb8ba58>"
      ]
     },
     "metadata": {},
     "output_type": "display_data"
    }
   ],
   "source": [
    "df[\"Adj Close\"].plot(figsize=(12,8))\n",
    "df[\"ASY1\"].plot(figsize=(12,8))\n",
    "df[\"ASY2\"].plot(figsize=(12,8))\n",
    "plt.show()"
   ]
  },
  {
   "cell_type": "code",
   "execution_count": 27,
   "metadata": {
    "collapsed": true
   },
   "outputs": [],
   "source": [
    "df[\"OBV\"] = np.where(df[\"Close\"]>df[\"Close\"].shift(1), df[\"Volume\"].cumsum(), df[\"Volume\"])# feature OBV from Type2 Indicator "
   ]
  },
  {
   "cell_type": "code",
   "execution_count": 28,
   "metadata": {
    "collapsed": false
   },
   "outputs": [
    {
     "data": {
      "text/html": [
       "<div>\n",
       "<table border=\"1\" class=\"dataframe\">\n",
       "  <thead>\n",
       "    <tr style=\"text-align: right;\">\n",
       "      <th></th>\n",
       "      <th>Open</th>\n",
       "      <th>High</th>\n",
       "      <th>Low</th>\n",
       "      <th>Close</th>\n",
       "      <th>Volume</th>\n",
       "      <th>Adj Close</th>\n",
       "      <th>STOK</th>\n",
       "      <th>AO Oscillator</th>\n",
       "      <th>LW%R</th>\n",
       "      <th>ASY1</th>\n",
       "      <th>ASY2</th>\n",
       "      <th>OBV</th>\n",
       "    </tr>\n",
       "    <tr>\n",
       "      <th>Date</th>\n",
       "      <th></th>\n",
       "      <th></th>\n",
       "      <th></th>\n",
       "      <th></th>\n",
       "      <th></th>\n",
       "      <th></th>\n",
       "      <th></th>\n",
       "      <th></th>\n",
       "      <th></th>\n",
       "      <th></th>\n",
       "      <th></th>\n",
       "      <th></th>\n",
       "    </tr>\n",
       "  </thead>\n",
       "  <tbody>\n",
       "    <tr>\n",
       "      <th>2012-03-28</th>\n",
       "      <td>618.379974</td>\n",
       "      <td>621.450005</td>\n",
       "      <td>610.309990</td>\n",
       "      <td>617.620010</td>\n",
       "      <td>163865100</td>\n",
       "      <td>80.018571</td>\n",
       "      <td>85.794345</td>\n",
       "      <td>0.625671</td>\n",
       "      <td>14.205655</td>\n",
       "      <td>1.228060</td>\n",
       "      <td>0.000000</td>\n",
       "      <td>163865100</td>\n",
       "    </tr>\n",
       "    <tr>\n",
       "      <th>2012-03-29</th>\n",
       "      <td>612.780006</td>\n",
       "      <td>616.560013</td>\n",
       "      <td>607.230026</td>\n",
       "      <td>609.859993</td>\n",
       "      <td>152059600</td>\n",
       "      <td>79.013187</td>\n",
       "      <td>84.533784</td>\n",
       "      <td>-0.113612</td>\n",
       "      <td>15.466216</td>\n",
       "      <td>0.509699</td>\n",
       "      <td>0.000000</td>\n",
       "      <td>152059600</td>\n",
       "    </tr>\n",
       "    <tr>\n",
       "      <th>2012-03-30</th>\n",
       "      <td>608.769981</td>\n",
       "      <td>610.559982</td>\n",
       "      <td>597.939987</td>\n",
       "      <td>599.550011</td>\n",
       "      <td>182759500</td>\n",
       "      <td>77.677430</td>\n",
       "      <td>82.858998</td>\n",
       "      <td>0.055467</td>\n",
       "      <td>17.141002</td>\n",
       "      <td>-1.264399</td>\n",
       "      <td>0.000000</td>\n",
       "      <td>182759500</td>\n",
       "    </tr>\n",
       "    <tr>\n",
       "      <th>2012-04-02</th>\n",
       "      <td>601.830009</td>\n",
       "      <td>618.769997</td>\n",
       "      <td>600.379990</td>\n",
       "      <td>618.630020</td>\n",
       "      <td>149587900</td>\n",
       "      <td>80.149428</td>\n",
       "      <td>85.958415</td>\n",
       "      <td>1.045132</td>\n",
       "      <td>14.041585</td>\n",
       "      <td>-1.705002</td>\n",
       "      <td>0.030681</td>\n",
       "      <td>648272100</td>\n",
       "    </tr>\n",
       "    <tr>\n",
       "      <th>2012-04-03</th>\n",
       "      <td>627.300018</td>\n",
       "      <td>632.209984</td>\n",
       "      <td>622.510002</td>\n",
       "      <td>629.319984</td>\n",
       "      <td>208639900</td>\n",
       "      <td>81.534415</td>\n",
       "      <td>87.694926</td>\n",
       "      <td>1.399999</td>\n",
       "      <td>12.305074</td>\n",
       "      <td>3.132800</td>\n",
       "      <td>0.041565</td>\n",
       "      <td>856912000</td>\n",
       "    </tr>\n",
       "  </tbody>\n",
       "</table>\n",
       "</div>"
      ],
      "text/plain": [
       "                  Open        High         Low       Close     Volume  \\\n",
       "Date                                                                    \n",
       "2012-03-28  618.379974  621.450005  610.309990  617.620010  163865100   \n",
       "2012-03-29  612.780006  616.560013  607.230026  609.859993  152059600   \n",
       "2012-03-30  608.769981  610.559982  597.939987  599.550011  182759500   \n",
       "2012-04-02  601.830009  618.769997  600.379990  618.630020  149587900   \n",
       "2012-04-03  627.300018  632.209984  622.510002  629.319984  208639900   \n",
       "\n",
       "            Adj Close       STOK  AO Oscillator       LW%R      ASY1  \\\n",
       "Date                                                                   \n",
       "2012-03-28  80.018571  85.794345       0.625671  14.205655  1.228060   \n",
       "2012-03-29  79.013187  84.533784      -0.113612  15.466216  0.509699   \n",
       "2012-03-30  77.677430  82.858998       0.055467  17.141002 -1.264399   \n",
       "2012-04-02  80.149428  85.958415       1.045132  14.041585 -1.705002   \n",
       "2012-04-03  81.534415  87.694926       1.399999  12.305074  3.132800   \n",
       "\n",
       "                ASY2        OBV  \n",
       "Date                             \n",
       "2012-03-28  0.000000  163865100  \n",
       "2012-03-29  0.000000  152059600  \n",
       "2012-03-30  0.000000  182759500  \n",
       "2012-04-02  0.030681  648272100  \n",
       "2012-04-03  0.041565  856912000  "
      ]
     },
     "execution_count": 28,
     "metadata": {},
     "output_type": "execute_result"
    }
   ],
   "source": [
    "df.head()"
   ]
  },
  {
   "cell_type": "code",
   "execution_count": 29,
   "metadata": {
    "collapsed": true
   },
   "outputs": [],
   "source": [
    "df[\"Trade\"] = np.where(df[\"STOK\"]>=84, 'buy', 'sell')# decision designing with STOK,if STOK >=84, buy else sell"
   ]
  },
  {
   "cell_type": "code",
   "execution_count": 30,
   "metadata": {
    "collapsed": false
   },
   "outputs": [
    {
     "data": {
      "text/html": [
       "<div>\n",
       "<table border=\"1\" class=\"dataframe\">\n",
       "  <thead>\n",
       "    <tr style=\"text-align: right;\">\n",
       "      <th></th>\n",
       "      <th>Open</th>\n",
       "      <th>High</th>\n",
       "      <th>Low</th>\n",
       "      <th>Close</th>\n",
       "      <th>Volume</th>\n",
       "      <th>Adj Close</th>\n",
       "      <th>STOK</th>\n",
       "      <th>AO Oscillator</th>\n",
       "      <th>LW%R</th>\n",
       "      <th>ASY1</th>\n",
       "      <th>ASY2</th>\n",
       "      <th>OBV</th>\n",
       "      <th>Trade</th>\n",
       "    </tr>\n",
       "    <tr>\n",
       "      <th>Date</th>\n",
       "      <th></th>\n",
       "      <th></th>\n",
       "      <th></th>\n",
       "      <th></th>\n",
       "      <th></th>\n",
       "      <th></th>\n",
       "      <th></th>\n",
       "      <th></th>\n",
       "      <th></th>\n",
       "      <th></th>\n",
       "      <th></th>\n",
       "      <th></th>\n",
       "      <th></th>\n",
       "    </tr>\n",
       "  </thead>\n",
       "  <tbody>\n",
       "    <tr>\n",
       "      <th>2012-03-28</th>\n",
       "      <td>618.379974</td>\n",
       "      <td>621.450005</td>\n",
       "      <td>610.309990</td>\n",
       "      <td>617.620010</td>\n",
       "      <td>163865100</td>\n",
       "      <td>80.018571</td>\n",
       "      <td>85.794345</td>\n",
       "      <td>0.625671</td>\n",
       "      <td>14.205655</td>\n",
       "      <td>1.228060</td>\n",
       "      <td>0.000000</td>\n",
       "      <td>163865100</td>\n",
       "      <td>buy</td>\n",
       "    </tr>\n",
       "    <tr>\n",
       "      <th>2012-03-29</th>\n",
       "      <td>612.780006</td>\n",
       "      <td>616.560013</td>\n",
       "      <td>607.230026</td>\n",
       "      <td>609.859993</td>\n",
       "      <td>152059600</td>\n",
       "      <td>79.013187</td>\n",
       "      <td>84.533784</td>\n",
       "      <td>-0.113612</td>\n",
       "      <td>15.466216</td>\n",
       "      <td>0.509699</td>\n",
       "      <td>0.000000</td>\n",
       "      <td>152059600</td>\n",
       "      <td>buy</td>\n",
       "    </tr>\n",
       "    <tr>\n",
       "      <th>2012-03-30</th>\n",
       "      <td>608.769981</td>\n",
       "      <td>610.559982</td>\n",
       "      <td>597.939987</td>\n",
       "      <td>599.550011</td>\n",
       "      <td>182759500</td>\n",
       "      <td>77.677430</td>\n",
       "      <td>82.858998</td>\n",
       "      <td>0.055467</td>\n",
       "      <td>17.141002</td>\n",
       "      <td>-1.264399</td>\n",
       "      <td>0.000000</td>\n",
       "      <td>182759500</td>\n",
       "      <td>sell</td>\n",
       "    </tr>\n",
       "    <tr>\n",
       "      <th>2012-04-02</th>\n",
       "      <td>601.830009</td>\n",
       "      <td>618.769997</td>\n",
       "      <td>600.379990</td>\n",
       "      <td>618.630020</td>\n",
       "      <td>149587900</td>\n",
       "      <td>80.149428</td>\n",
       "      <td>85.958415</td>\n",
       "      <td>1.045132</td>\n",
       "      <td>14.041585</td>\n",
       "      <td>-1.705002</td>\n",
       "      <td>0.030681</td>\n",
       "      <td>648272100</td>\n",
       "      <td>buy</td>\n",
       "    </tr>\n",
       "    <tr>\n",
       "      <th>2012-04-03</th>\n",
       "      <td>627.300018</td>\n",
       "      <td>632.209984</td>\n",
       "      <td>622.510002</td>\n",
       "      <td>629.319984</td>\n",
       "      <td>208639900</td>\n",
       "      <td>81.534415</td>\n",
       "      <td>87.694926</td>\n",
       "      <td>1.399999</td>\n",
       "      <td>12.305074</td>\n",
       "      <td>3.132800</td>\n",
       "      <td>0.041565</td>\n",
       "      <td>856912000</td>\n",
       "      <td>buy</td>\n",
       "    </tr>\n",
       "  </tbody>\n",
       "</table>\n",
       "</div>"
      ],
      "text/plain": [
       "                  Open        High         Low       Close     Volume  \\\n",
       "Date                                                                    \n",
       "2012-03-28  618.379974  621.450005  610.309990  617.620010  163865100   \n",
       "2012-03-29  612.780006  616.560013  607.230026  609.859993  152059600   \n",
       "2012-03-30  608.769981  610.559982  597.939987  599.550011  182759500   \n",
       "2012-04-02  601.830009  618.769997  600.379990  618.630020  149587900   \n",
       "2012-04-03  627.300018  632.209984  622.510002  629.319984  208639900   \n",
       "\n",
       "            Adj Close       STOK  AO Oscillator       LW%R      ASY1  \\\n",
       "Date                                                                   \n",
       "2012-03-28  80.018571  85.794345       0.625671  14.205655  1.228060   \n",
       "2012-03-29  79.013187  84.533784      -0.113612  15.466216  0.509699   \n",
       "2012-03-30  77.677430  82.858998       0.055467  17.141002 -1.264399   \n",
       "2012-04-02  80.149428  85.958415       1.045132  14.041585 -1.705002   \n",
       "2012-04-03  81.534415  87.694926       1.399999  12.305074  3.132800   \n",
       "\n",
       "                ASY2        OBV Trade  \n",
       "Date                                   \n",
       "2012-03-28  0.000000  163865100   buy  \n",
       "2012-03-29  0.000000  152059600   buy  \n",
       "2012-03-30  0.000000  182759500  sell  \n",
       "2012-04-02  0.030681  648272100   buy  \n",
       "2012-04-03  0.041565  856912000   buy  "
      ]
     },
     "execution_count": 30,
     "metadata": {},
     "output_type": "execute_result"
    }
   ],
   "source": [
    "df.head()"
   ]
  },
  {
   "cell_type": "code",
   "execution_count": 31,
   "metadata": {
    "collapsed": true
   },
   "outputs": [],
   "source": [
    "# Create feature from Close from previous day\n",
    "# and Label from next day\n",
    "df['Close-1'] = df[\"Close\"].shift(1)\n",
    "df['Label'] = df[\"Close\"].shift(-1)"
   ]
  },
  {
   "cell_type": "code",
   "execution_count": 32,
   "metadata": {
    "collapsed": true
   },
   "outputs": [],
   "source": [
    "# Drop the columns we dont want to use as features\n",
    "df.drop([\"Open\", \"High\", \"Low\", \"Volume\", \"Adj Close\", \"Trade\"], axis=1, inplace=True)"
   ]
  },
  {
   "cell_type": "code",
   "execution_count": 33,
   "metadata": {
    "collapsed": false
   },
   "outputs": [
    {
     "data": {
      "text/html": [
       "<div>\n",
       "<table border=\"1\" class=\"dataframe\">\n",
       "  <thead>\n",
       "    <tr style=\"text-align: right;\">\n",
       "      <th></th>\n",
       "      <th>Close</th>\n",
       "      <th>STOK</th>\n",
       "      <th>AO Oscillator</th>\n",
       "      <th>LW%R</th>\n",
       "      <th>ASY1</th>\n",
       "      <th>ASY2</th>\n",
       "      <th>OBV</th>\n",
       "      <th>Close-1</th>\n",
       "      <th>Label</th>\n",
       "    </tr>\n",
       "    <tr>\n",
       "      <th>Date</th>\n",
       "      <th></th>\n",
       "      <th></th>\n",
       "      <th></th>\n",
       "      <th></th>\n",
       "      <th></th>\n",
       "      <th></th>\n",
       "      <th></th>\n",
       "      <th></th>\n",
       "      <th></th>\n",
       "    </tr>\n",
       "  </thead>\n",
       "  <tbody>\n",
       "    <tr>\n",
       "      <th>2017-04-20</th>\n",
       "      <td>142.440002</td>\n",
       "      <td>8.604613</td>\n",
       "      <td>1.272734</td>\n",
       "      <td>91.395387</td>\n",
       "      <td>-0.368955</td>\n",
       "      <td>0.018151</td>\n",
       "      <td>91262993600</td>\n",
       "      <td>140.679993</td>\n",
       "      <td>142.270004</td>\n",
       "    </tr>\n",
       "    <tr>\n",
       "      <th>2017-04-21</th>\n",
       "      <td>142.270004</td>\n",
       "      <td>8.576998</td>\n",
       "      <td>0.289150</td>\n",
       "      <td>91.423002</td>\n",
       "      <td>1.243311</td>\n",
       "      <td>0.015068</td>\n",
       "      <td>17245200</td>\n",
       "      <td>142.440002</td>\n",
       "      <td>143.639999</td>\n",
       "    </tr>\n",
       "    <tr>\n",
       "      <th>2017-04-24</th>\n",
       "      <td>143.639999</td>\n",
       "      <td>8.799545</td>\n",
       "      <td>2.181798</td>\n",
       "      <td>91.200455</td>\n",
       "      <td>-0.119418</td>\n",
       "      <td>-0.050687</td>\n",
       "      <td>91297338000</td>\n",
       "      <td>142.270004</td>\n",
       "      <td>144.529999</td>\n",
       "    </tr>\n",
       "    <tr>\n",
       "      <th>2017-04-25</th>\n",
       "      <td>144.529999</td>\n",
       "      <td>8.944119</td>\n",
       "      <td>1.223297</td>\n",
       "      <td>91.055881</td>\n",
       "      <td>0.958347</td>\n",
       "      <td>0.004857</td>\n",
       "      <td>91315628300</td>\n",
       "      <td>143.639999</td>\n",
       "      <td>143.679993</td>\n",
       "    </tr>\n",
       "    <tr>\n",
       "      <th>2017-04-26</th>\n",
       "      <td>143.679993</td>\n",
       "      <td>8.806041</td>\n",
       "      <td>0.057383</td>\n",
       "      <td>91.193959</td>\n",
       "      <td>0.617693</td>\n",
       "      <td>-0.038915</td>\n",
       "      <td>19769400</td>\n",
       "      <td>144.529999</td>\n",
       "      <td>NaN</td>\n",
       "    </tr>\n",
       "  </tbody>\n",
       "</table>\n",
       "</div>"
      ],
      "text/plain": [
       "                 Close      STOK  AO Oscillator       LW%R      ASY1  \\\n",
       "Date                                                                   \n",
       "2017-04-20  142.440002  8.604613       1.272734  91.395387 -0.368955   \n",
       "2017-04-21  142.270004  8.576998       0.289150  91.423002  1.243311   \n",
       "2017-04-24  143.639999  8.799545       2.181798  91.200455 -0.119418   \n",
       "2017-04-25  144.529999  8.944119       1.223297  91.055881  0.958347   \n",
       "2017-04-26  143.679993  8.806041       0.057383  91.193959  0.617693   \n",
       "\n",
       "                ASY2          OBV     Close-1       Label  \n",
       "Date                                                       \n",
       "2017-04-20  0.018151  91262993600  140.679993  142.270004  \n",
       "2017-04-21  0.015068     17245200  142.440002  143.639999  \n",
       "2017-04-24 -0.050687  91297338000  142.270004  144.529999  \n",
       "2017-04-25  0.004857  91315628300  143.639999  143.679993  \n",
       "2017-04-26 -0.038915     19769400  144.529999         NaN  "
      ]
     },
     "execution_count": 33,
     "metadata": {},
     "output_type": "execute_result"
    }
   ],
   "source": [
    "df.tail(5)"
   ]
  },
  {
   "cell_type": "code",
   "execution_count": 34,
   "metadata": {
    "collapsed": true
   },
   "outputs": [],
   "source": [
    "# Drop the NaN values\n",
    "df = df.dropna()"
   ]
  },
  {
   "cell_type": "code",
   "execution_count": 35,
   "metadata": {
    "collapsed": true
   },
   "outputs": [],
   "source": [
    "from sklearn import preprocessing"
   ]
  },
  {
   "cell_type": "code",
   "execution_count": 36,
   "metadata": {
    "collapsed": false
   },
   "outputs": [
    {
     "name": "stderr",
     "output_type": "stream",
     "text": [
      "C:\\Users\\Omistaja\\Anaconda3\\lib\\site-packages\\sklearn\\preprocessing\\data.py:160: UserWarning: Numerical issues were encountered when centering the data and might not be solved. Dataset may contain too large values. You may need to prescale your features.\n",
      "  warnings.warn(\"Numerical issues were encountered \"\n"
     ]
    }
   ],
   "source": [
    "X = np.array(df.drop(['Label'], 1))\n",
    "# Scale values with zero mean and unit variance \n",
    "X = preprocessing.scale(X)"
   ]
  },
  {
   "cell_type": "code",
   "execution_count": 37,
   "metadata": {
    "collapsed": true
   },
   "outputs": [],
   "source": [
    "# Labels\n",
    "y = np.array(df['Label'])\n",
    "# Scale values with zero mean and unit variance \n",
    "y = preprocessing.scale(y)"
   ]
  },
  {
   "cell_type": "code",
   "execution_count": 38,
   "metadata": {
    "collapsed": true
   },
   "outputs": [],
   "source": [
    "from sklearn import model_selection\n",
    "from sklearn import preprocessing\n",
    "from sklearn.linear_model import LinearRegression, ElasticNetCV, Ridge\n",
    "from sklearn.model_selection import TimeSeriesSplit"
   ]
  },
  {
   "cell_type": "code",
   "execution_count": 39,
   "metadata": {
    "collapsed": true
   },
   "outputs": [],
   "source": [
    "tscv = TimeSeriesSplit(n_splits=4)\n",
    "\n",
    "for train_index, test_index in tscv.split(X):\n",
    "    X_train, X_test = X[train_index], X[test_index]\n",
    "    y_train, y_test = y[train_index], y[test_index]"
   ]
  },
  {
   "cell_type": "code",
   "execution_count": 40,
   "metadata": {
    "collapsed": false
   },
   "outputs": [
    {
     "data": {
      "text/plain": [
       "array([[-0.8788264 , -0.8788264 , -0.06738341,  0.8788264 ,  0.056656  ,\n",
       "         0.1073779 , -0.86784938, -0.87450818],\n",
       "       [-0.88018491, -0.88018491, -0.01029348,  0.88018491, -0.17287251,\n",
       "        -0.06749459, -0.86778766, -0.87993832],\n",
       "       [-0.8829956 , -0.8829956 , -0.05153032,  0.8829956 , -0.02839807,\n",
       "         0.24011954, -0.86795138, -0.88129587],\n",
       "       [-0.88641531, -0.88641531, -0.02620048,  0.88641531, -0.08077275,\n",
       "         0.04662724, -0.86714066, -0.88410457],\n",
       "       [-0.91700507, -0.91700507, -0.30334533,  0.91700507, -0.10343179,\n",
       "         0.11729217, -0.86544342, -0.88752184]])"
      ]
     },
     "execution_count": 40,
     "metadata": {},
     "output_type": "execute_result"
    }
   ],
   "source": [
    "X_test[:5]"
   ]
  },
  {
   "cell_type": "code",
   "execution_count": 41,
   "metadata": {
    "collapsed": true
   },
   "outputs": [],
   "source": [
    "close_values = X_test[:,0]"
   ]
  },
  {
   "cell_type": "code",
   "execution_count": 42,
   "metadata": {
    "collapsed": true
   },
   "outputs": [],
   "source": [
    "linear = LinearRegression()"
   ]
  },
  {
   "cell_type": "code",
   "execution_count": 43,
   "metadata": {
    "collapsed": false
   },
   "outputs": [
    {
     "data": {
      "text/plain": [
       "LinearRegression(copy_X=True, fit_intercept=True, n_jobs=1, normalize=False)"
      ]
     },
     "execution_count": 43,
     "metadata": {},
     "output_type": "execute_result"
    }
   ],
   "source": [
    "linear.fit(X_train, y_train)"
   ]
  },
  {
   "cell_type": "code",
   "execution_count": 44,
   "metadata": {
    "collapsed": true
   },
   "outputs": [],
   "source": [
    "forecast_set = linear.predict(X_test)"
   ]
  },
  {
   "cell_type": "code",
   "execution_count": 45,
   "metadata": {
    "collapsed": true
   },
   "outputs": [],
   "source": [
    "from sklearn.metrics import confusion_matrix\n",
    "from sklearn.metrics import mean_squared_error\n",
    "\n",
    "def evaluate(close_values, predicted_values, true_values):\n",
    "    \"\"\"Print MSE, a confusion matrix and prediction (up/down) accuracy.\"\"\"\n",
    "    \n",
    "    MSE = mean_squared_error(predicted_values, true_values)\n",
    "    \n",
    "    true = []\n",
    "    pred = []\n",
    "    \n",
    "    # Compares predicted and true values to the previous day data to see \n",
    "    # if the prediction direction was correct\n",
    "    for i in range(len(predicted_values)): \n",
    "        if (predicted_values[i] > close_values[i]):\n",
    "            pred.append(1)\n",
    "        else:\n",
    "            pred.append(0)\n",
    "        if (true_values[i] > close_values[i]):\n",
    "            true.append(1)\n",
    "        else:\n",
    "            true.append(0)\n",
    "    \n",
    "    # How many of our predictions were correct\n",
    "    matches = 0\n",
    "    for i in range(len(pred)):\n",
    "        if pred[i] == true[i]:\n",
    "            matches += 1\n",
    "            \n",
    "    percentage = (matches / len(pred)) * 100\n",
    "    \n",
    "    print(\"MSE:\", MSE, \"\\n\")\n",
    "    print(\"Confusion matrix:\\n\", confusion_matrix(true, pred), \"\\n\")\n",
    "    print(matches, \"correct out of\", len(pred))\n",
    "    print(\"Accuracy:\", percentage, \"%\\n\")\n",
    "    "
   ]
  },
  {
   "cell_type": "code",
   "execution_count": 46,
   "metadata": {
    "collapsed": false
   },
   "outputs": [
    {
     "name": "stdout",
     "output_type": "stream",
     "text": [
      "MSE: 4.38324307153e-05 \n",
      "\n",
      "Confusion matrix:\n",
      " [[  0  84]\n",
      " [  0 171]] \n",
      "\n",
      "171 correct out of 255\n",
      "Accuracy: 67.05882352941175 %\n",
      "\n"
     ]
    }
   ],
   "source": [
    "evaluate(close_values, forecast_set, y_test)"
   ]
  },
  {
   "cell_type": "code",
   "execution_count": null,
   "metadata": {
    "collapsed": true
   },
   "outputs": [],
   "source": []
  }
 ],
 "metadata": {
  "kernelspec": {
   "display_name": "Python 3",
   "language": "python",
   "name": "python3"
  },
  "language_info": {
   "codemirror_mode": {
    "name": "ipython",
    "version": 3
   },
   "file_extension": ".py",
   "mimetype": "text/x-python",
   "name": "python",
   "nbconvert_exporter": "python",
   "pygments_lexer": "ipython3",
   "version": "3.6.0"
  }
 },
 "nbformat": 4,
 "nbformat_minor": 2
}
